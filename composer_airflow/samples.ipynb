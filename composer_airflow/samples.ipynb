{
 "cells": [
  {
   "cell_type": "code",
   "execution_count": 2,
   "metadata": {},
   "outputs": [
    {
     "name": "stdout",
     "output_type": "stream",
     "text": [
      "Collecting croniter\n",
      "  Downloading croniter-1.3.8-py2.py3-none-any.whl (18 kB)\n",
      "Requirement already satisfied: python-dateutil in /home/codespace/.local/lib/python3.10/site-packages (from croniter) (2.8.2)\n",
      "Requirement already satisfied: six>=1.5 in /home/codespace/.local/lib/python3.10/site-packages (from python-dateutil->croniter) (1.16.0)\n",
      "Installing collected packages: croniter\n",
      "Successfully installed croniter-1.3.8\n"
     ]
    }
   ],
   "source": [
    "!pip install croniter"
   ]
  },
  {
   "cell_type": "code",
   "execution_count": 1,
   "metadata": {},
   "outputs": [
    {
     "name": "stdout",
     "output_type": "stream",
     "text": [
      "2023-04-07 07:30:00\n",
      "2023-05-05 07:30:00\n",
      "2023-06-02 07:30:00\n",
      "2023-07-07 07:30:00\n",
      "2023-08-04 07:30:00\n"
     ]
    }
   ],
   "source": [
    "from croniter import croniter\n",
    "from datetime import datetime\n",
    "# cron exp for first friday in every month\n",
    "cron = croniter(\"30 7 * * 5#1\")\n",
    "for _ in range(5):\n",
    "    print(cron.get_next(datetime))"
   ]
  },
  {
   "cell_type": "code",
   "execution_count": null,
   "metadata": {},
   "outputs": [],
   "source": []
  }
 ],
 "metadata": {
  "kernelspec": {
   "display_name": "Python 3",
   "language": "python",
   "name": "python3"
  },
  "language_info": {
   "codemirror_mode": {
    "name": "ipython",
    "version": 3
   },
   "file_extension": ".py",
   "mimetype": "text/x-python",
   "name": "python",
   "nbconvert_exporter": "python",
   "pygments_lexer": "ipython3",
   "version": "3.10.4"
  },
  "orig_nbformat": 4
 },
 "nbformat": 4,
 "nbformat_minor": 2
}
